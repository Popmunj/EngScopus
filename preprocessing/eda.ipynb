{
 "cells": [
  {
   "cell_type": "code",
   "execution_count": 66,
   "metadata": {},
   "outputs": [],
   "source": [
    "import json\n",
    "import re\n",
    "from unpacker import reformat\n",
    "from loguru import logger\n",
    "\n",
    "with open(\"../data/2018B/20180227.json\", \"r\", encoding=\"utf-8\") as f:\n",
    "    js = json.load(f)"
   ]
  },
  {
   "cell_type": "code",
   "execution_count": 72,
   "metadata": {},
   "outputs": [
    {
     "data": {
      "text/plain": [
       "{'label': 'Literature',\n",
       " 'id': '85059292352',\n",
       " 'title': 'Recognizing the leaky gut as a trans-diagnostic target for neuro-immune disorders using clinical chemistry and molecular immunology assays',\n",
       " 'open_access': '0',\n",
       " 'publication_date': None,\n",
       " 'publication_month': None,\n",
       " 'publication_year': '2018'}"
      ]
     },
     "execution_count": 72,
     "metadata": {},
     "output_type": "execute_result"
    }
   ],
   "source": [
    "\n",
    "def unpack_literature(json_obj):\n",
    "    try: \n",
    "        ab_data = json_obj[\"abstracts-retrieval-response\"]\n",
    "    \n",
    "        core = ab_data[\"coredata\"] \n",
    "        id, title  = core[\"dc:identifier\"], core[\"dc:title\"]\n",
    "        id = id.split(\":\")[1]\n",
    "\n",
    "        xml, open_access = core[\"prism:url\"], core[\"openaccess\"]\n",
    "\n",
    "        source = ab_data[\"item\"][\"bibrecord\"][\"head\"][\"source\"]\n",
    "        pubdate = source[\"publicationdate\"]\n",
    "        d, m, y = pubdate.get(\"day\", None), pubdate.get(\"month\", None), \\\n",
    "                pubdate.get(\"year\", None)\n",
    "      \n",
    "\n",
    "        return {\n",
    "            \"label\": \"Literature\",\n",
    "            \"id\": id, \n",
    "            \"title\": title,\n",
    "            \"open_access\": open_access,\n",
    "            \"publication_date\": d,\n",
    "            \"publication_month\": m,\n",
    "            \"publication_year\": y\n",
    "        }\n",
    "    except Exception as e:\n",
    "        logger.error(f\"Error unpacking Literature: {e}\") \n",
    "\n",
    "\n",
    "\n",
    "unpack_literature(js)"
   ]
  },
  {
   "cell_type": "code",
   "execution_count": 56,
   "metadata": {},
   "outputs": [],
   "source": [
    "ab_data = js[\"abstracts-retrieval-response\"]"
   ]
  },
  {
   "cell_type": "code",
   "execution_count": 64,
   "metadata": {},
   "outputs": [
    {
     "data": {
      "text/plain": [
       "'85059292352'"
      ]
     },
     "execution_count": 64,
     "metadata": {},
     "output_type": "execute_result"
    }
   ],
   "source": [
    "\n",
    "    \n",
    "core = ab_data[\"coredata\"] \n",
    "id, title  = core[\"dc:identifier\"], core[\"dc:title\"]\n",
    "id = id.split(\":\")[1]\n",
    "\n",
    "xml, open_access = core[\"prism:url\"], core[\"openaccess\"]\n",
    "\n",
    "source = ab_data[\"item\"][\"bibrecord\"][\"head\"][\"source\"]\n",
    "pubdate = source[\"publicationdate\"]\n",
    "d, m, y = pubdate.get(\"day\", None), pubdate.get(\"month\", None), \\\n",
    "        pubdate.get(\"year\", None)\n",
    "      \n",
    "\n",
    "id\n",
    "    \n",
    "\n",
    "                "
   ]
  },
  {
   "cell_type": "code",
   "execution_count": null,
   "metadata": {},
   "outputs": [],
   "source": []
  }
 ],
 "metadata": {
  "kernelspec": {
   "display_name": "Python 3",
   "language": "python",
   "name": "python3"
  },
  "language_info": {
   "codemirror_mode": {
    "name": "ipython",
    "version": 3
   },
   "file_extension": ".py",
   "mimetype": "text/x-python",
   "name": "python",
   "nbconvert_exporter": "python",
   "pygments_lexer": "ipython3",
   "version": "3.11.4"
  }
 },
 "nbformat": 4,
 "nbformat_minor": 2
}
