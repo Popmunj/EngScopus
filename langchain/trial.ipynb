{
 "cells": [
  {
   "cell_type": "code",
   "execution_count": 2,
   "metadata": {},
   "outputs": [],
   "source": [
    "from langchain.vectorstores.neo4j_vector import Neo4jVector\n",
    "from langchain.embeddings.openai import OpenAIEmbeddings\n",
    "import os\n",
    "from langchain.chains import GraphCypherQAChain\n",
    "from langchain.agents import initialize_agent, AgentType, Tool\n",
    "from langchain_openai import ChatOpenAI\n",
    "from langchain.graphs import Neo4jGraph\n"
   ]
  },
  {
   "cell_type": "code",
   "execution_count": 22,
   "metadata": {},
   "outputs": [],
   "source": [
    "def get_index(index, name):\n",
    "    url = os.getenv(\"NEO4J_URL\")\n",
    "    usr = os.getenv(\"NEO4J_USERNAME\")\n",
    "    pwd = os.getenv(\"NEO4J_PASSWORD\")\n",
    "\n",
    "    existing_index = Neo4jVector.from_existing_index(\n",
    "        OpenAIEmbeddings(),\n",
    "        url=url,\n",
    "        username=usr,\n",
    "        password=pwd,\n",
    "        index_name=f\"{index}\",\n",
    "        text_node_property=f\"{name}\"\n",
    "\n",
    "    )"
   ]
  },
  {
   "cell_type": "code",
   "execution_count": 3,
   "metadata": {},
   "outputs": [
    {
     "name": "stderr",
     "output_type": "stream",
     "text": [
      "/var/folders/cc/rnt3w6p15_9bhmg17qtpnjlw0000gn/T/ipykernel_83029/171196798.py:27: LangChainDeprecationWarning: The function `initialize_agent` was deprecated in LangChain 0.1.0 and will be removed in 1.0. Use Use new agent constructor methods like create_react_agent, create_json_agent, create_structured_chat_agent, etc. instead.\n",
      "  agent = initialize_agent(\n",
      "/var/folders/cc/rnt3w6p15_9bhmg17qtpnjlw0000gn/T/ipykernel_83029/171196798.py:33: LangChainDeprecationWarning: The method `Chain.run` was deprecated in langchain 0.1.0 and will be removed in 1.0. Use invoke instead.\n",
      "  agent.run(\"How many papers are published by Chulalongkorn University?\")\n"
     ]
    },
    {
     "name": "stdout",
     "output_type": "stream",
     "text": [
      "\n",
      "\n",
      "\u001b[1m> Entering new AgentExecutor chain...\u001b[0m\n",
      "\u001b[32;1m\u001b[1;3mI need to find the number of papers published by Chulalongkorn University. To do this, I will query the graph database to get the relevant information.\n",
      "Action: Graph Query\n",
      "Action Input: {\"institution\": \"Chulalongkorn University\", \"output\": \"number_of_papers\"}\u001b[0m\n",
      "\n",
      "\u001b[1m> Entering new GraphCypherQAChain chain...\u001b[0m\n",
      "Generated Cypher:\n",
      "\u001b[32;1m\u001b[1;3mMATCH (a:Author)-[:AFFILIATED_WITH]->(o:Organization {name: \"Chulalongkorn University\"}), (a)-[:AUTHORED]->(l:Literature)\n",
      "RETURN COUNT(l) AS number_of_papers\u001b[0m\n",
      "Full Context:\n",
      "\u001b[32;1m\u001b[1;3m[{'number_of_papers': 4948}]\u001b[0m\n",
      "\n",
      "\u001b[1m> Finished chain.\u001b[0m\n",
      "\n",
      "Observation: \u001b[36;1m\u001b[1;3mChulalongkorn University has produced 4948 papers.\u001b[0m\n",
      "Thought:\u001b[32;1m\u001b[1;3mI now know the final answer.\n",
      "Final Answer: Chulalongkorn University has published 4948 papers.\u001b[0m\n",
      "\n",
      "\u001b[1m> Finished chain.\u001b[0m\n"
     ]
    },
    {
     "data": {
      "text/plain": [
       "'Chulalongkorn University has published 4948 papers.'"
      ]
     },
     "execution_count": 3,
     "metadata": {},
     "output_type": "execute_result"
    }
   ],
   "source": [
    "\n",
    "def get_cypher():\n",
    "    url = os.getenv(\"NEO4J_URL\")\n",
    "    usr = os.getenv(\"NEO4J_USERNAME\")\n",
    "    pwd = os.getenv(\"NEO4J_PASSWORD\")\n",
    "\n",
    "    graph = Neo4jGraph(\n",
    "    url=url,\n",
    "    username=usr,\n",
    "    password=pwd)\n",
    "\n",
    "\n",
    "\n",
    "    cypher_runnable = GraphCypherQAChain.from_llm(\n",
    "        cypher_llm = ChatOpenAI(model=\"gpt-4\"),\n",
    "        qa_llm = ChatOpenAI(model=\"gpt-4\"),\n",
    "        graph=graph,\n",
    "        verbose=True\n",
    "    )\n",
    "    return cypher_runnable\n",
    "\n",
    "tools = [\n",
    "    Tool(name=\"Graph Query\",\n",
    "         func=get_cypher().run,\n",
    "         description=\"Useful for finding relations in a graph\"\n",
    "         )\n",
    "]\n",
    "agent = initialize_agent(\n",
    "    tools=tools,\n",
    "    llm=ChatOpenAI(model=\"gpt-4o\"),\n",
    "    agent_type=AgentType.OPENAI_FUNCTIONS,\n",
    "    verbose=True\n",
    ")\n",
    "agent.run(\"How many papers are published by Chulalongkorn University?\")"
   ]
  },
  {
   "cell_type": "code",
   "execution_count": 28,
   "metadata": {},
   "outputs": [],
   "source": [
    "r = get_cypher()"
   ]
  },
  {
   "cell_type": "code",
   "execution_count": null,
   "metadata": {},
   "outputs": [],
   "source": []
  }
 ],
 "metadata": {
  "kernelspec": {
   "display_name": "Python 3",
   "language": "python",
   "name": "python3"
  },
  "language_info": {
   "codemirror_mode": {
    "name": "ipython",
    "version": 3
   },
   "file_extension": ".py",
   "mimetype": "text/x-python",
   "name": "python",
   "nbconvert_exporter": "python",
   "pygments_lexer": "ipython3",
   "version": "3.11.4"
  }
 },
 "nbformat": 4,
 "nbformat_minor": 2
}
